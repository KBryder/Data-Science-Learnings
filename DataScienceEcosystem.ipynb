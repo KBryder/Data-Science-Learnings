{
 "cells": [
  {
   "cell_type": "markdown",
   "id": "88b1feb2-d8b7-4d34-8c53-41d88ddf7d04",
   "metadata": {
    "tags": []
   },
   "source": [
    "# Data Science Tools and Ecosystem\n",
    "## Author\n",
    "Kylie Bryant-Rider\n",
    "\n",
    "In this notebook, Data Science Tools and Ecosystem are summarized."
   ]
  },
  {
   "cell_type": "markdown",
   "id": "3f3f4d01-db12-46d0-a435-1f2c05ffe4c5",
   "metadata": {},
   "source": [
    "Objectives:\n",
    "- List popular languages for Data Science\n",
    "- List popular libraries for Data Science\n",
    "- Create a table of Data Science Tools\n",
    "- Perform some calculations with comments."
   ]
  },
  {
   "cell_type": "markdown",
   "id": "a9133f8b-cca4-4dfc-8045-fed589fcb810",
   "metadata": {},
   "source": [
    "Some of the popular languages that Data Scientists use are:\n",
    "1. Python\n",
    "2. R\n",
    "3. Julia"
   ]
  },
  {
   "cell_type": "markdown",
   "id": "6703bd34-42be-4a6b-8248-887554a721f0",
   "metadata": {},
   "source": [
    "Some of the commonly used libraries used by Data Scientists include:\n",
    "1. Pandas\n",
    "2. TensorFlow\n",
    "3. Matplotlib "
   ]
  },
  {
   "cell_type": "markdown",
   "id": "b1d71c11-d45f-409a-9bb1-6b7aed967228",
   "metadata": {},
   "source": [
    " | Data Science Tools |  \n",
    " |---|\n",
    " | Hadoop  |\n",
    " | Apache Spark |\n",
    " | RStudio || "
   ]
  },
  {
   "cell_type": "markdown",
   "id": "3ac7fffe-1c94-4924-8507-17ab0724d634",
   "metadata": {
    "tags": []
   },
   "source": [
    "### Below are a few examples of evaluating arithmetic expressions in Python"
   ]
  },
  {
   "cell_type": "code",
   "execution_count": 9,
   "id": "d37f8981-0d42-4ad8-9339-44e8134b946e",
   "metadata": {
    "tags": []
   },
   "outputs": [
    {
     "data": {
      "text/plain": [
       "15"
      ]
     },
     "execution_count": 9,
     "metadata": {},
     "output_type": "execute_result"
    }
   ],
   "source": [
    "3*5"
   ]
  },
  {
   "cell_type": "code",
   "execution_count": 10,
   "id": "d1207822-cd9d-4109-964a-51c522614e0c",
   "metadata": {
    "tags": []
   },
   "outputs": [
    {
     "data": {
      "text/plain": [
       "326.0"
      ]
     },
     "execution_count": 10,
     "metadata": {},
     "output_type": "execute_result"
    }
   ],
   "source": [
    "652/2"
   ]
  },
  {
   "cell_type": "markdown",
   "id": "d66d69db-b615-4f8d-a63e-122eae8d0404",
   "metadata": {},
   "source": [
    "This a simple arithmetic expression to mutiply then add integers"
   ]
  },
  {
   "cell_type": "code",
   "execution_count": 13,
   "id": "d483d305-91e7-4bcd-9352-df2878ac54d0",
   "metadata": {
    "tags": []
   },
   "outputs": [
    {
     "data": {
      "text/plain": [
       "17"
      ]
     },
     "execution_count": 13,
     "metadata": {},
     "output_type": "execute_result"
    }
   ],
   "source": [
    "(3*4)+5"
   ]
  },
  {
   "cell_type": "markdown",
   "id": "26451d10-132b-45c5-9c61-08184f460b94",
   "metadata": {
    "tags": []
   },
   "source": [
    " This will convert 200 minutes to hours by diving by 60"
   ]
  },
  {
   "cell_type": "code",
   "execution_count": 17,
   "id": "fbb33a82-9e45-4d12-9646-0fb514955a44",
   "metadata": {
    "tags": []
   },
   "outputs": [
    {
     "data": {
      "text/plain": [
       "3.3333333333333335"
      ]
     },
     "execution_count": 17,
     "metadata": {},
     "output_type": "execute_result"
    }
   ],
   "source": [
    "200/60"
   ]
  }
 ],
 "metadata": {
  "kernelspec": {
   "display_name": "Python",
   "language": "python",
   "name": "conda-env-python-py"
  },
  "language_info": {
   "codemirror_mode": {
    "name": "ipython",
    "version": 3
   },
   "file_extension": ".py",
   "mimetype": "text/x-python",
   "name": "python",
   "nbconvert_exporter": "python",
   "pygments_lexer": "ipython3",
   "version": "3.7.12"
  }
 },
 "nbformat": 4,
 "nbformat_minor": 5
}
